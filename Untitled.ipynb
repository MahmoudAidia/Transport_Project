{
 "cells": [
  {
   "cell_type": "code",
   "execution_count": 1,
   "id": "65360223",
   "metadata": {},
   "outputs": [],
   "source": [
    "import base64\n",
    "import numpy as np\n",
    "import io\n",
    "from PIL import Image\n",
    "import keras\n",
    "from keras import backend as K\n",
    "from keras.models import Sequential\n",
    "from keras.models import load_model\n",
    "from keras.preprocessing.image import ImageDataGenerator\n",
    "from keras.preprocessing.image import img_to_array\n",
    "from flask import request\n",
    "from flask import jsonify\n",
    "from flask import Flask\n",
    "\n",
    "code = {'Seat_Belt':0, 'WithoutSeat_Belt':1}\n",
    "\n",
    "def getcode(n):\n",
    "    for x,y in code.items():\n",
    "        if n == y:\n",
    "            return x\n",
    "        \n",
    "\n",
    "app = Flask(__name__)\n",
    "\n",
    "def get_model():\n",
    "    global model\n",
    "    model = load_model('Seatbelt Detection with Transefer Learning.h5')\n",
    "    print(\" * Model loaded!\")\n",
    "    \n",
    "def preprocess_image(image, target_size):\n",
    "    if image.mode != \"RGB\":\n",
    "        image = image.convert(\"RGB\")\n",
    "    image = image.resize(target_size)\n",
    "    image = img_to_array(image)\n",
    "    image = np.expand_dims(image, axis=0)\n",
    "    \n",
    "    return image\n",
    "\n",
    "@app.route(\"/predict\", methods=[\"POST\"])\n",
    "def predict():\n",
    "    message = request.get.json(force=True)\n",
    "    enconded = message['image']\n",
    "    decoded = base64.b64decode(encoded)\n",
    "    image = Image.open(io.BytesIO(decoded))\n",
    "    precessed_Image = preprocess_Image(image, target_size=(299,299))\n",
    "    \n",
    "    prediction = model.predict(processed_image)\n",
    "    \n",
    "    response = getcode(np.argmax(prediction))\n",
    "    \n",
    "    return jsonify(response)"
   ]
  },
  {
   "cell_type": "code",
   "execution_count": null,
   "id": "da626949",
   "metadata": {},
   "outputs": [],
   "source": []
  }
 ],
 "metadata": {
  "kernelspec": {
   "display_name": "Python 3 (ipykernel)",
   "language": "python",
   "name": "python3"
  },
  "language_info": {
   "codemirror_mode": {
    "name": "ipython",
    "version": 3
   },
   "file_extension": ".py",
   "mimetype": "text/x-python",
   "name": "python",
   "nbconvert_exporter": "python",
   "pygments_lexer": "ipython3",
   "version": "3.11.4"
  }
 },
 "nbformat": 4,
 "nbformat_minor": 5
}
